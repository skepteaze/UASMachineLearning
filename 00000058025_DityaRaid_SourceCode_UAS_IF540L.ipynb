{
 "cells": [
  {
   "cell_type": "code",
   "execution_count": 1,
   "id": "0cd11fe0",
   "metadata": {},
   "outputs": [],
   "source": [
    "#Anaconda cmd\n",
    "#conda activate EnvTensorFlow\n",
    "#open 'jupyter notebook' in cmd"
   ]
  },
  {
   "cell_type": "code",
   "execution_count": 2,
   "id": "9b1e95f7",
   "metadata": {},
   "outputs": [],
   "source": [
    "#conda env list"
   ]
  },
  {
   "cell_type": "code",
   "execution_count": 1,
   "id": "2bba9d2e",
   "metadata": {},
   "outputs": [],
   "source": [
    "import numpy as np\n",
    "import pandas as pd\n",
    "import matplotlib.pyplot as plt\n",
    "import cv2\n",
    "import tensorflow as tf\n",
    "from PIL import Image\n",
    "import os\n",
    "os.chdir(r'C:\\1. KULIAH\\MATKUL\\SEMESTER 4\\(IF 540-A-HY) Machine Learning\\PROJECT')\n",
    "from sklearn.model_selection import train_test_split\n",
    "from keras.utils import to_categorical\n",
    "from keras.models import Sequential, load_model\n",
    "from keras.layers import Conv2D, MaxPool2D, Dense, Flatten, Dropout"
   ]
  },
  {
   "cell_type": "code",
   "execution_count": 2,
   "id": "13b4362d",
   "metadata": {},
   "outputs": [],
   "source": [
    "data = []\n",
    "labels = []\n",
    "classes = 43\n",
    "filepath = os.getcwd()"
   ]
  },
  {
   "cell_type": "code",
   "execution_count": 3,
   "id": "1611b7d5",
   "metadata": {},
   "outputs": [
    {
     "data": {
      "text/plain": [
       "'C:\\\\1. KULIAH\\\\MATKUL\\\\SEMESTER 4\\\\(IF 540-A-HY) Machine Learning\\\\PROJECT'"
      ]
     },
     "execution_count": 3,
     "metadata": {},
     "output_type": "execute_result"
    }
   ],
   "source": [
    "filepath"
   ]
  },
  {
   "cell_type": "markdown",
   "id": "9399c336",
   "metadata": {},
   "source": [
    "# Preprocessing Image"
   ]
  },
  {
   "cell_type": "code",
   "execution_count": 4,
   "id": "6b713e38",
   "metadata": {},
   "outputs": [],
   "source": [
    "for i in range(classes):\n",
    "    path = os.path.join(filepath, 'train',str(i))\n",
    "    images = os.listdir(path)\n",
    "    for a in images:\n",
    "        try:\n",
    "            image = Image.open(path + '\\\\' + a)\n",
    "            image = image.resize((30,30))\n",
    "            image = np.array(image)\n",
    "            data.append(image)\n",
    "            labels.append(i)\n",
    "        except Exception as e:\n",
    "            print(e)"
   ]
  },
  {
   "cell_type": "markdown",
   "id": "52376de3",
   "metadata": {},
   "source": [
    "# Converting lists into arrays"
   ]
  },
  {
   "cell_type": "code",
   "execution_count": 5,
   "id": "66880781",
   "metadata": {},
   "outputs": [],
   "source": [
    "data = np.array(data)\n",
    "labels = np.array(labels)"
   ]
  },
  {
   "cell_type": "markdown",
   "id": "8bebabb6",
   "metadata": {},
   "source": [
    "# Save Data and Labels for future use"
   ]
  },
  {
   "cell_type": "code",
   "execution_count": 54,
   "id": "33f822d3",
   "metadata": {},
   "outputs": [],
   "source": [
    "np.save('./training/data',data)\n",
    "np.save('./training/target',labels)"
   ]
  },
  {
   "cell_type": "markdown",
   "id": "f684431a",
   "metadata": {},
   "source": [
    "# Load data & Labels"
   ]
  },
  {
   "cell_type": "code",
   "execution_count": null,
   "id": "11106b1d",
   "metadata": {},
   "outputs": [],
   "source": [
    "data = np.load('./training/data.npy')\n",
    "labels = np.load('./training/target.npy')"
   ]
  },
  {
   "cell_type": "code",
   "execution_count": 6,
   "id": "ccde0f82",
   "metadata": {},
   "outputs": [
    {
     "name": "stdout",
     "output_type": "stream",
     "text": [
      "(39209, 30, 30, 3) (39209,)\n"
     ]
    }
   ],
   "source": [
    "print(data.shape, labels.shape)"
   ]
  },
  {
   "cell_type": "markdown",
   "id": "92fc338d",
   "metadata": {},
   "source": [
    "## Splitting"
   ]
  },
  {
   "cell_type": "code",
   "execution_count": 7,
   "id": "1417b409",
   "metadata": {},
   "outputs": [],
   "source": [
    "X_train,X_test,y_train, y_test = train_test_split(data,labels,\n",
    "                                                 test_size = 0.2,\n",
    "                                                 random_state=0)"
   ]
  },
  {
   "cell_type": "code",
   "execution_count": 8,
   "id": "597f72a4",
   "metadata": {},
   "outputs": [
    {
     "name": "stdout",
     "output_type": "stream",
     "text": [
      "(31367, 30, 30, 3) (7842, 30, 30, 3) (31367,) (7842,)\n"
     ]
    }
   ],
   "source": [
    "print(X_train.shape, X_test.shape,y_train.shape,y_test.shape)"
   ]
  },
  {
   "cell_type": "markdown",
   "id": "cf6bc482",
   "metadata": {},
   "source": [
    "# Convert labels to onehot encoding "
   ]
  },
  {
   "cell_type": "code",
   "execution_count": 9,
   "id": "41602229",
   "metadata": {},
   "outputs": [],
   "source": [
    "y_train = to_categorical(y_train,43)\n",
    "y_test = to_categorical(y_test,43)"
   ]
  },
  {
   "cell_type": "code",
   "execution_count": 10,
   "id": "7e75c3df",
   "metadata": {},
   "outputs": [
    {
     "name": "stdout",
     "output_type": "stream",
     "text": [
      "(31367, 43)\n",
      "(7842, 43)\n"
     ]
    }
   ],
   "source": [
    "print(y_train.shape)\n",
    "print(y_test.shape)"
   ]
  },
  {
   "cell_type": "code",
   "execution_count": 8,
   "id": "be84c395",
   "metadata": {},
   "outputs": [
    {
     "name": "stdout",
     "output_type": "stream",
     "text": [
      "12\n"
     ]
    }
   ],
   "source": [
    "print(len(os.listdir(filepath)))"
   ]
  },
  {
   "cell_type": "markdown",
   "id": "26eca1d7",
   "metadata": {},
   "source": [
    "# Build Model 1"
   ]
  },
  {
   "cell_type": "code",
   "execution_count": 26,
   "id": "922ac7ca",
   "metadata": {},
   "outputs": [],
   "source": [
    "model = Sequential()\n",
    "model.add(Conv2D(filters=32, kernel_size =(5,5), activation= 'relu', input_shape=X_train.shape[1: ]))\n",
    "model.add(Conv2D(filters=32, kernel_size =(5,5), activation= 'relu'))\n",
    "model.add(MaxPool2D(pool_size=(2, 2)))\n",
    "model.add(Dropout(rate= 0.25))\n",
    "model.add(Conv2D(filters=64, kernel_size =(3, 3), activation = 'relu'))\n",
    "model.add(Conv2D(filters=64, kernel_size =(3, 3), activation= 'relu'))\n",
    "model.add(MaxPool2D(pool_size = (2, 2)))\n",
    "model.add(Dropout (rate=0.25))\n",
    "model.add(Flatten())\n",
    "model.add(Dense (256, activation = 'relu'))\n",
    "model.add(Dropout (rate = 0.5))\n",
    "\n",
    "# 43 classes in the Dense\n",
    "model.add(Dense(43, activation='softmax'))"
   ]
  },
  {
   "cell_type": "code",
   "execution_count": 27,
   "id": "c30d9530",
   "metadata": {},
   "outputs": [],
   "source": [
    "model.compile(loss='categorical_crossentropy', optimizer='adam', metrics=['accuracy'])"
   ]
  },
  {
   "cell_type": "code",
   "execution_count": 28,
   "id": "be9d5817",
   "metadata": {},
   "outputs": [
    {
     "name": "stdout",
     "output_type": "stream",
     "text": [
      "Epoch 1/10\n",
      "981/981 [==============================] - 165s 167ms/step - loss: 1.7909 - accuracy: 0.5483 - val_loss: 0.3869 - val_accuracy: 0.9069\n",
      "Epoch 2/10\n",
      "981/981 [==============================] - 161s 164ms/step - loss: 0.5989 - accuracy: 0.8293 - val_loss: 0.1761 - val_accuracy: 0.9582\n",
      "Epoch 3/10\n",
      "981/981 [==============================] - 156s 159ms/step - loss: 0.3944 - accuracy: 0.8873 - val_loss: 0.1664 - val_accuracy: 0.9526\n",
      "Epoch 4/10\n",
      "981/981 [==============================] - 155s 158ms/step - loss: 0.3021 - accuracy: 0.9157 - val_loss: 0.0782 - val_accuracy: 0.9783\n",
      "Epoch 5/10\n",
      "981/981 [==============================] - 158s 161ms/step - loss: 0.2599 - accuracy: 0.9267 - val_loss: 0.0923 - val_accuracy: 0.9733\n",
      "Epoch 6/10\n",
      "981/981 [==============================] - 144s 147ms/step - loss: 0.2509 - accuracy: 0.9295 - val_loss: 0.0578 - val_accuracy: 0.9850\n",
      "Epoch 7/10\n",
      "981/981 [==============================] - 140s 143ms/step - loss: 0.2108 - accuracy: 0.9418 - val_loss: 0.0654 - val_accuracy: 0.9811\n",
      "Epoch 8/10\n",
      "981/981 [==============================] - 150s 153ms/step - loss: 0.2048 - accuracy: 0.9440 - val_loss: 0.0473 - val_accuracy: 0.9865\n",
      "Epoch 9/10\n",
      "981/981 [==============================] - 142s 145ms/step - loss: 0.2167 - accuracy: 0.9412 - val_loss: 0.0479 - val_accuracy: 0.9855\n",
      "Epoch 10/10\n",
      "981/981 [==============================] - 142s 145ms/step - loss: 0.2082 - accuracy: 0.9455 - val_loss: 0.0633 - val_accuracy: 0.9824\n"
     ]
    }
   ],
   "source": [
    "epochs=10\n",
    "history = model.fit(X_train, y_train, batch_size=32, epochs=epochs, validation_data=(X_test, y_test))"
   ]
  },
  {
   "cell_type": "markdown",
   "id": "4debff33",
   "metadata": {},
   "source": [
    "# Build Model 2 \n",
    "### Same second layer kernel size and pooling size"
   ]
  },
  {
   "cell_type": "code",
   "execution_count": 32,
   "id": "5bc4636e",
   "metadata": {},
   "outputs": [
    {
     "name": "stdout",
     "output_type": "stream",
     "text": [
      "Epoch 1/10\n",
      "981/981 [==============================] - 132s 134ms/step - loss: 1.9869 - accuracy: 0.4733 - val_loss: 0.5573 - val_accuracy: 0.8613\n",
      "Epoch 2/10\n",
      "981/981 [==============================] - 134s 136ms/step - loss: 0.7358 - accuracy: 0.7909 - val_loss: 0.2210 - val_accuracy: 0.9504\n",
      "Epoch 3/10\n",
      "981/981 [==============================] - 106s 108ms/step - loss: 0.4938 - accuracy: 0.8658 - val_loss: 0.1701 - val_accuracy: 0.9591\n",
      "Epoch 4/10\n",
      "981/981 [==============================] - 107s 110ms/step - loss: 0.3837 - accuracy: 0.8965 - val_loss: 0.1060 - val_accuracy: 0.9754\n",
      "Epoch 5/10\n",
      "981/981 [==============================] - 108s 110ms/step - loss: 0.3080 - accuracy: 0.9200 - val_loss: 0.0922 - val_accuracy: 0.9799\n",
      "Epoch 6/10\n",
      "981/981 [==============================] - 107s 109ms/step - loss: 0.2817 - accuracy: 0.9294 - val_loss: 0.0891 - val_accuracy: 0.9809\n",
      "Epoch 7/10\n",
      "981/981 [==============================] - 107s 109ms/step - loss: 0.2736 - accuracy: 0.9330 - val_loss: 0.0769 - val_accuracy: 0.9843\n",
      "Epoch 8/10\n",
      "981/981 [==============================] - 113s 115ms/step - loss: 0.2277 - accuracy: 0.9459 - val_loss: 0.0817 - val_accuracy: 0.9800\n",
      "Epoch 9/10\n",
      "981/981 [==============================] - 107s 109ms/step - loss: 0.2413 - accuracy: 0.9429 - val_loss: 0.1376 - val_accuracy: 0.9689\n",
      "Epoch 10/10\n",
      "981/981 [==============================] - 106s 108ms/step - loss: 0.2399 - accuracy: 0.9452 - val_loss: 0.0859 - val_accuracy: 0.9796\n"
     ]
    }
   ],
   "source": [
    "model2 = Sequential()\n",
    "model2.add(Conv2D(filters=32, kernel_size=(5, 5), activation='relu', input_shape=X_train.shape[1:]))\n",
    "model2.add(Conv2D(filters=32, kernel_size=(5, 5), activation='relu'))\n",
    "model2.add(MaxPool2D(pool_size=(2, 2)))\n",
    "model2.add(Dropout(rate=0.25))\n",
    "\n",
    "# Additional convolutional layer with increased filter size\n",
    "model2.add(Conv2D(filters=64, kernel_size=(5, 5), activation='relu'))\n",
    "model2.add(Conv2D(filters=64, kernel_size=(5, 5), activation='relu'))\n",
    "model2.add(MaxPool2D(pool_size=(2, 2)))\n",
    "model2.add(Dropout(rate=0.25))\n",
    "\n",
    "model2.add(Flatten())\n",
    "model2.add(Dense(256, activation='relu'))\n",
    "model2.add(Dropout(rate=0.5))\n",
    "model2.add(Dense(43, activation='softmax'))\n",
    "\n",
    "model2.compile(loss='categorical_crossentropy', optimizer='adam', metrics=['accuracy'])\n",
    "\n",
    "history2 = model2.fit(X_train, y_train, batch_size=32, epochs=epochs, validation_data=(X_test, y_test))"
   ]
  },
  {
   "cell_type": "markdown",
   "id": "6c9dc0c7",
   "metadata": {},
   "source": [
    "# Build Model 3\n",
    "### Increase number of filter on both layer"
   ]
  },
  {
   "cell_type": "code",
   "execution_count": 36,
   "id": "f2162b47",
   "metadata": {},
   "outputs": [
    {
     "name": "stdout",
     "output_type": "stream",
     "text": [
      "Epoch 1/10\n",
      "981/981 [==============================] - 259s 264ms/step - loss: 1.9087 - accuracy: 0.5090 - val_loss: 0.5201 - val_accuracy: 0.8592\n",
      "Epoch 2/10\n",
      "981/981 [==============================] - 252s 257ms/step - loss: 0.6665 - accuracy: 0.8040 - val_loss: 0.2632 - val_accuracy: 0.9209\n",
      "Epoch 3/10\n",
      "981/981 [==============================] - 293s 299ms/step - loss: 0.3874 - accuracy: 0.8872 - val_loss: 0.1362 - val_accuracy: 0.9609\n",
      "Epoch 4/10\n",
      "981/981 [==============================] - 256s 261ms/step - loss: 0.2832 - accuracy: 0.9185 - val_loss: 0.1434 - val_accuracy: 0.9615\n",
      "Epoch 5/10\n",
      "981/981 [==============================] - 241s 246ms/step - loss: 0.2436 - accuracy: 0.9306 - val_loss: 0.1013 - val_accuracy: 0.9704\n",
      "Epoch 6/10\n",
      "981/981 [==============================] - 244s 249ms/step - loss: 0.2275 - accuracy: 0.9374 - val_loss: 0.0699 - val_accuracy: 0.9815\n",
      "Epoch 7/10\n",
      "981/981 [==============================] - 239s 244ms/step - loss: 0.2219 - accuracy: 0.9400 - val_loss: 0.0868 - val_accuracy: 0.9762\n",
      "Epoch 8/10\n",
      "981/981 [==============================] - 253s 258ms/step - loss: 0.2078 - accuracy: 0.9457 - val_loss: 0.0523 - val_accuracy: 0.9855\n",
      "Epoch 9/10\n",
      "981/981 [==============================] - 335s 342ms/step - loss: 0.2058 - accuracy: 0.9470 - val_loss: 0.0953 - val_accuracy: 0.9742\n",
      "Epoch 10/10\n",
      "981/981 [==============================] - 288s 294ms/step - loss: 0.1987 - accuracy: 0.9484 - val_loss: 0.0528 - val_accuracy: 0.9888\n"
     ]
    }
   ],
   "source": [
    "model3 = Sequential()\n",
    "model3.add(Conv2D(filters=64, kernel_size=(5, 5), activation='relu', input_shape=X_train.shape[1:]))\n",
    "model3.add(Conv2D(filters=64, kernel_size=(5, 5), activation='relu'))\n",
    "model3.add(MaxPool2D(pool_size=(2, 2)))\n",
    "model3.add(Dropout(rate=0.25))\n",
    "\n",
    "model3.add(Conv2D(filters=128, kernel_size=(3, 3), activation='relu'))\n",
    "model3.add(Conv2D(filters=128, kernel_size=(3, 3), activation='relu'))\n",
    "model3.add(MaxPool2D(pool_size=(2, 2)))\n",
    "model3.add(Dropout(rate=0.25))\n",
    "\n",
    "model3.add(Flatten())\n",
    "model3.add(Dense(256, activation='relu'))\n",
    "model3.add(Dropout(rate=0.5))\n",
    "model3.add(Dense(43, activation='softmax'))\n",
    "\n",
    "model3.compile(loss='categorical_crossentropy', optimizer='adam', metrics=['accuracy'])\n",
    "\n",
    "epochs = 10\n",
    "history3 = model3.fit(X_train, y_train, batch_size=32, epochs=epochs, validation_data=(X_test, y_test))"
   ]
  },
  {
   "cell_type": "markdown",
   "id": "d783eb93",
   "metadata": {},
   "source": [
    "# Build Model 4\n",
    "### Using Average pooling"
   ]
  },
  {
   "cell_type": "code",
   "execution_count": 39,
   "id": "c6226591",
   "metadata": {},
   "outputs": [],
   "source": [
    "from keras.layers import AveragePooling2D"
   ]
  },
  {
   "cell_type": "code",
   "execution_count": 40,
   "id": "ffb1a209",
   "metadata": {},
   "outputs": [
    {
     "name": "stdout",
     "output_type": "stream",
     "text": [
      "Epoch 1/10\n",
      "981/981 [==============================] - 127s 129ms/step - loss: 1.6710 - accuracy: 0.5678 - val_loss: 0.3752 - val_accuracy: 0.8884\n",
      "Epoch 2/10\n",
      "981/981 [==============================] - 119s 121ms/step - loss: 0.4647 - accuracy: 0.8629 - val_loss: 0.1522 - val_accuracy: 0.9610\n",
      "Epoch 3/10\n",
      "981/981 [==============================] - 120s 122ms/step - loss: 0.3009 - accuracy: 0.9126 - val_loss: 0.0799 - val_accuracy: 0.9792\n",
      "Epoch 4/10\n",
      "981/981 [==============================] - 118s 120ms/step - loss: 0.2174 - accuracy: 0.9368 - val_loss: 0.0858 - val_accuracy: 0.9782\n",
      "Epoch 5/10\n",
      "981/981 [==============================] - 117s 119ms/step - loss: 0.1807 - accuracy: 0.9492 - val_loss: 0.0580 - val_accuracy: 0.9838\n",
      "Epoch 6/10\n",
      "981/981 [==============================] - 136s 139ms/step - loss: 0.1672 - accuracy: 0.9518 - val_loss: 0.0521 - val_accuracy: 0.9864\n",
      "Epoch 7/10\n",
      "981/981 [==============================] - 324s 331ms/step - loss: 0.1545 - accuracy: 0.9563 - val_loss: 0.0468 - val_accuracy: 0.9865\n",
      "Epoch 8/10\n",
      "981/981 [==============================] - 320s 326ms/step - loss: 0.1367 - accuracy: 0.9619 - val_loss: 0.0393 - val_accuracy: 0.9908\n",
      "Epoch 9/10\n",
      "981/981 [==============================] - 334s 341ms/step - loss: 0.1434 - accuracy: 0.9602 - val_loss: 0.0508 - val_accuracy: 0.9866\n",
      "Epoch 10/10\n",
      "981/981 [==============================] - 317s 323ms/step - loss: 0.1402 - accuracy: 0.9605 - val_loss: 0.0367 - val_accuracy: 0.9894\n"
     ]
    }
   ],
   "source": [
    "model4 = Sequential()\n",
    "model4.add(Conv2D(filters=32, kernel_size=(5, 5), activation='relu', input_shape=X_train.shape[1:]))\n",
    "model4.add(Conv2D(filters=32, kernel_size=(5, 5), activation='relu'))\n",
    "model4.add(AveragePooling2D(pool_size=(2, 2)))\n",
    "model4.add(Dropout(rate=0.25))\n",
    "\n",
    "model4.add(Conv2D(filters=64, kernel_size=(3, 3), activation='relu'))\n",
    "model4.add(Conv2D(filters=64, kernel_size=(3, 3), activation='relu'))\n",
    "model4.add(AveragePooling2D(pool_size=(2, 2)))\n",
    "model4.add(Dropout(rate=0.25))\n",
    "\n",
    "model4.add(Flatten())\n",
    "model4.add(Dense(256, activation='relu'))\n",
    "model4.add(Dropout(rate=0.5))\n",
    "model4.add(Dense(43, activation='softmax'))\n",
    "\n",
    "model4.compile(loss='categorical_crossentropy', optimizer='adam', metrics=['accuracy'])\n",
    "\n",
    "epochs = 10\n",
    "history4 = model4.fit(X_train, y_train, batch_size=32, epochs=epochs, validation_data=(X_test, y_test))"
   ]
  },
  {
   "cell_type": "markdown",
   "id": "36e1ae35",
   "metadata": {},
   "source": [
    "# Evaluation"
   ]
  },
  {
   "cell_type": "code",
   "execution_count": 14,
   "id": "51b161a9",
   "metadata": {},
   "outputs": [
    {
     "ename": "NameError",
     "evalue": "name 'history' is not defined",
     "output_type": "error",
     "traceback": [
      "\u001b[1;31m---------------------------------------------------------------------------\u001b[0m",
      "\u001b[1;31mNameError\u001b[0m                                 Traceback (most recent call last)",
      "\u001b[1;32m~\\AppData\\Local\\Temp\\ipykernel_28340\\1107079420.py\u001b[0m in \u001b[0;36m<module>\u001b[1;34m\u001b[0m\n\u001b[0;32m      1\u001b[0m \u001b[0mplt\u001b[0m\u001b[1;33m.\u001b[0m\u001b[0mfigure\u001b[0m\u001b[1;33m(\u001b[0m\u001b[1;36m0\u001b[0m\u001b[1;33m)\u001b[0m\u001b[1;33m\u001b[0m\u001b[1;33m\u001b[0m\u001b[0m\n\u001b[1;32m----> 2\u001b[1;33m \u001b[0mplt\u001b[0m\u001b[1;33m.\u001b[0m\u001b[0mplot\u001b[0m\u001b[1;33m(\u001b[0m\u001b[0mhistory\u001b[0m\u001b[1;33m.\u001b[0m\u001b[0mhistory\u001b[0m\u001b[1;33m[\u001b[0m\u001b[1;34m'accuracy'\u001b[0m\u001b[1;33m]\u001b[0m\u001b[1;33m,\u001b[0m\u001b[0mlabel\u001b[0m \u001b[1;33m=\u001b[0m \u001b[1;34m'training accuracy'\u001b[0m\u001b[1;33m)\u001b[0m\u001b[1;33m\u001b[0m\u001b[1;33m\u001b[0m\u001b[0m\n\u001b[0m\u001b[0;32m      3\u001b[0m \u001b[0mplt\u001b[0m\u001b[1;33m.\u001b[0m\u001b[0mplot\u001b[0m\u001b[1;33m(\u001b[0m\u001b[0mhistory\u001b[0m\u001b[1;33m.\u001b[0m\u001b[0mhistory\u001b[0m\u001b[1;33m[\u001b[0m\u001b[1;34m'val_accuracy'\u001b[0m\u001b[1;33m]\u001b[0m\u001b[1;33m,\u001b[0m\u001b[0mlabel\u001b[0m \u001b[1;33m=\u001b[0m \u001b[1;34m'val accuracy'\u001b[0m\u001b[1;33m)\u001b[0m\u001b[1;33m\u001b[0m\u001b[1;33m\u001b[0m\u001b[0m\n\u001b[0;32m      4\u001b[0m \u001b[0mplt\u001b[0m\u001b[1;33m.\u001b[0m\u001b[0mplot\u001b[0m\u001b[1;33m(\u001b[0m\u001b[0mhistory2\u001b[0m\u001b[1;33m.\u001b[0m\u001b[0mhistory\u001b[0m\u001b[1;33m[\u001b[0m\u001b[1;34m'accuracy'\u001b[0m\u001b[1;33m]\u001b[0m\u001b[1;33m,\u001b[0m\u001b[0mlabel\u001b[0m \u001b[1;33m=\u001b[0m \u001b[1;34m'training accuracy 2'\u001b[0m\u001b[1;33m)\u001b[0m\u001b[1;33m\u001b[0m\u001b[1;33m\u001b[0m\u001b[0m\n\u001b[0;32m      5\u001b[0m \u001b[0mplt\u001b[0m\u001b[1;33m.\u001b[0m\u001b[0mplot\u001b[0m\u001b[1;33m(\u001b[0m\u001b[0mhistory2\u001b[0m\u001b[1;33m.\u001b[0m\u001b[0mhistory\u001b[0m\u001b[1;33m[\u001b[0m\u001b[1;34m'val_accuracy'\u001b[0m\u001b[1;33m]\u001b[0m\u001b[1;33m,\u001b[0m\u001b[0mlabel\u001b[0m \u001b[1;33m=\u001b[0m \u001b[1;34m'val accuracy 2'\u001b[0m\u001b[1;33m)\u001b[0m\u001b[1;33m\u001b[0m\u001b[1;33m\u001b[0m\u001b[0m\n",
      "\u001b[1;31mNameError\u001b[0m: name 'history' is not defined"
     ]
    },
    {
     "data": {
      "text/plain": [
       "<Figure size 640x480 with 0 Axes>"
      ]
     },
     "metadata": {},
     "output_type": "display_data"
    }
   ],
   "source": [
    "plt.figure(0)\n",
    "plt.plot(history.history['accuracy'],label = 'training accuracy')\n",
    "plt.plot(history.history['val_accuracy'],label = 'val accuracy')\n",
    "plt.plot(history2.history['accuracy'],label = 'training accuracy 2')\n",
    "plt.plot(history2.history['val_accuracy'],label = 'val accuracy 2')\n",
    "plt.plot(history3.history['accuracy'],label = 'training accuracy 3')\n",
    "plt.plot(history3.history['val_accuracy'],label = 'val accuracy 3')\n",
    "plt.plot(history4.history['accuracy'],label = 'training accuracy 4')\n",
    "plt.plot(history4.history['val_accuracy'],label = 'val accuracy 4')\n",
    "plt.title('Accuracy')\n",
    "plt.xlabel('epochs')\n",
    "plt.ylabel('accuracy')\n",
    "plt.legend()\n",
    "plt.show()"
   ]
  },
  {
   "cell_type": "code",
   "execution_count": 15,
   "id": "f60a52b5",
   "metadata": {
    "scrolled": true
   },
   "outputs": [
    {
     "ename": "NameError",
     "evalue": "name 'history' is not defined",
     "output_type": "error",
     "traceback": [
      "\u001b[1;31m---------------------------------------------------------------------------\u001b[0m",
      "\u001b[1;31mNameError\u001b[0m                                 Traceback (most recent call last)",
      "\u001b[1;32m~\\AppData\\Local\\Temp\\ipykernel_28340\\3372026503.py\u001b[0m in \u001b[0;36m<module>\u001b[1;34m\u001b[0m\n\u001b[1;32m----> 1\u001b[1;33m \u001b[0mpd\u001b[0m\u001b[1;33m.\u001b[0m\u001b[0mDataFrame\u001b[0m\u001b[1;33m(\u001b[0m\u001b[0mhistory\u001b[0m\u001b[1;33m.\u001b[0m\u001b[0mhistory\u001b[0m\u001b[1;33m)\u001b[0m\u001b[1;33m.\u001b[0m\u001b[0mplot\u001b[0m\u001b[1;33m(\u001b[0m\u001b[0mfigsize\u001b[0m\u001b[1;33m=\u001b[0m\u001b[1;33m(\u001b[0m\u001b[1;36m8\u001b[0m\u001b[1;33m,\u001b[0m \u001b[1;36m5\u001b[0m\u001b[1;33m)\u001b[0m\u001b[1;33m)\u001b[0m\u001b[1;33m\u001b[0m\u001b[1;33m\u001b[0m\u001b[0m\n\u001b[0m\u001b[0;32m      2\u001b[0m \u001b[0mplt\u001b[0m\u001b[1;33m.\u001b[0m\u001b[0mgrid\u001b[0m\u001b[1;33m(\u001b[0m\u001b[1;32mTrue\u001b[0m\u001b[1;33m)\u001b[0m\u001b[1;33m\u001b[0m\u001b[1;33m\u001b[0m\u001b[0m\n\u001b[0;32m      3\u001b[0m \u001b[0mplt\u001b[0m\u001b[1;33m.\u001b[0m\u001b[0mgca\u001b[0m\u001b[1;33m(\u001b[0m\u001b[1;33m)\u001b[0m\u001b[1;33m.\u001b[0m\u001b[0mset_ylim\u001b[0m\u001b[1;33m(\u001b[0m\u001b[1;36m0\u001b[0m\u001b[1;33m,\u001b[0m \u001b[1;36m1\u001b[0m\u001b[1;33m)\u001b[0m\u001b[1;33m\u001b[0m\u001b[1;33m\u001b[0m\u001b[0m\n\u001b[0;32m      4\u001b[0m \u001b[0mplt\u001b[0m\u001b[1;33m.\u001b[0m\u001b[0mshow\u001b[0m\u001b[1;33m(\u001b[0m\u001b[1;33m)\u001b[0m\u001b[1;33m\u001b[0m\u001b[1;33m\u001b[0m\u001b[0m\n",
      "\u001b[1;31mNameError\u001b[0m: name 'history' is not defined"
     ]
    }
   ],
   "source": [
    "pd.DataFrame(history.history).plot(figsize=(8, 5))\n",
    "plt.grid(True)\n",
    "plt.gca().set_ylim(0, 1)\n",
    "plt.show()"
   ]
  },
  {
   "cell_type": "code",
   "execution_count": 47,
   "id": "8c74526f",
   "metadata": {},
   "outputs": [
    {
     "data": {
      "image/png": "[encoded data removed]",
      "text/plain": [
       "<Figure size 800x500 with 1 Axes>"
      ]
     },
     "metadata": {},
     "output_type": "display_data"
    }
   ],
   "source": [
    "pd.DataFrame(history2.history).plot(figsize=(8, 5))\n",
    "plt.grid(True)\n",
    "plt.gca().set_ylim(0, 1)\n",
    "plt.show()"
   ]
  },
  {
   "cell_type": "code",
   "execution_count": 48,
   "id": "a889f1a6",
   "metadata": {},
   "outputs": [
    {
     "data": {
      "image/png": "[encoded data removed]",
      "text/plain": [
       "<Figure size 800x500 with 1 Axes>"
      ]
     },
     "metadata": {},
     "output_type": "display_data"
    }
   ],
   "source": [
    "pd.DataFrame(history3.history).plot(figsize=(8, 5))\n",
    "plt.grid(True)\n",
    "plt.gca().set_ylim(0, 1)\n",
    "plt.show()"
   ]
  },
  {
   "cell_type": "code",
   "execution_count": 49,
   "id": "c3b47dd0",
   "metadata": {},
   "outputs": [
    {
     "data": {
      "image/png": "[encoded data removed]",
      "text/plain": [
       "<Figure size 800x500 with 1 Axes>"
      ]
     },
     "metadata": {},
     "output_type": "display_data"
    }
   ],
   "source": [
    "pd.DataFrame(history4.history).plot(figsize=(8, 5))\n",
    "plt.grid(True)\n",
    "plt.gca().set_ylim(0, 1)\n",
    "plt.show()"
   ]
  },
  {
   "cell_type": "markdown",
   "id": "f1a95d79",
   "metadata": {},
   "source": [
    "# Model 4 dipilih"
   ]
  },
  {
   "cell_type": "code",
   "execution_count": 9,
   "id": "1d411fee",
   "metadata": {},
   "outputs": [],
   "source": [
    "def testing(testcsv):\n",
    "    y_test = pd.read_csv(testcsv)\n",
    "    label = y_test['ClassId'].values\n",
    "    imgs = y_test['Path'].values\n",
    "    data = []\n",
    "    for img in imgs:\n",
    "        image = Image.open(img)\n",
    "        image = image.resize((30,30))\n",
    "        data.append(np.array(image))\n",
    "    X_test = np.array(data)\n",
    "    return X_test,label"
   ]
  },
  {
   "cell_type": "code",
   "execution_count": 10,
   "id": "d0798d3f",
   "metadata": {},
   "outputs": [],
   "source": [
    "X_test, label = testing('Test.csv')"
   ]
  },
  {
   "cell_type": "code",
   "execution_count": 11,
   "id": "2c34960a",
   "metadata": {},
   "outputs": [
    {
     "name": "stdout",
     "output_type": "stream",
     "text": [
      "395/395 [==============================] - 16s 40ms/step\n"
     ]
    },
    {
     "data": {
      "text/plain": [
       "array([16,  1, 38, ..., 32,  7, 10], dtype=int64)"
      ]
     },
     "execution_count": 11,
     "metadata": {},
     "output_type": "execute_result"
    }
   ],
   "source": [
    "probs = model4.predict(X_test)\n",
    "Y_pred = np.argmax(probs, axis=1)\n",
    "Y_pred"
   ]
  },
  {
   "cell_type": "markdown",
   "id": "d25b31f2",
   "metadata": {},
   "source": [
    "# Testing Accuracy"
   ]
  },
  {
   "cell_type": "code",
   "execution_count": 12,
   "id": "06dea22c",
   "metadata": {},
   "outputs": [
    {
     "name": "stdout",
     "output_type": "stream",
     "text": [
      "0.963341250989707\n"
     ]
    }
   ],
   "source": [
    "from sklearn.metrics import accuracy_score\n",
    "print(accuracy_score(label,Y_pred))"
   ]
  },
  {
   "cell_type": "code",
   "execution_count": 55,
   "id": "3e15efba",
   "metadata": {},
   "outputs": [],
   "source": [
    "#saving model\n",
    "model.save('./training/model.h5')\n",
    "model2.save('./training/model2.h5')\n",
    "model3.save('./training/model3.h5')\n",
    "model4.save('./training/model4.h5')"
   ]
  },
  {
   "cell_type": "code",
   "execution_count": 5,
   "id": "bbb4a7da",
   "metadata": {},
   "outputs": [],
   "source": [
    "#load model\n",
    "import os\n",
    "os.chdir(r'C:\\1. KULIAH\\MATKUL\\SEMESTER 4\\(IF 540-A-HY) Machine Learning\\PROJECT')\n",
    "from keras.models import load_model\n",
    "model1 = load_model('./training/model.h5')\n",
    "model2 = load_model('./training/model2.h5')\n",
    "model3 = load_model('./training/model3.h5')\n",
    "model4 = load_model('./training/model4.h5')"
   ]
  },
  {
   "cell_type": "code",
   "execution_count": 6,
   "id": "1e676566",
   "metadata": {},
   "outputs": [],
   "source": [
    "classes = {0:'Speed limit (20km/h)',\n",
    "           1:'Speed limit (30km/h)',\n",
    "           2:'Speed limit (50km/h)',\n",
    "           3:'Speed limit (60km/h)',\n",
    "           4:'Speed limit (70km/h)',\n",
    "           5:'Speed limit (80km/h)',\n",
    "           6:'End of speed limit (80km/h)',\n",
    "           7:'Speed limit (100km/h)',\n",
    "           8:'Speed limit (120km/h)',\n",
    "           9:'No passing',\n",
    "           10:'No passing vehicle over 3.5 tons',\n",
    "           11:'Right-of-way at intersection',\n",
    "           12:'Priority road',\n",
    "           13:'Yield',\n",
    "           14:'Stop',\n",
    "           15:'No vehicles',\n",
    "           16:'Vehicle over 3.5 tons prohibited',\n",
    "           17:'No entry',\n",
    "           18:'General caution',\n",
    "           19:'Dangerous curve left',\n",
    "           20:'Dangerous curve right',\n",
    "           21:'Double curve',\n",
    "           22:'Bumpy road',\n",
    "           23:'Slippery road',\n",
    "           24:'Road narrows on the right',\n",
    "           25:'Road work',\n",
    "           26:'Traffic signals',\n",
    "           27:'Pedestrian',\n",
    "           28:'Children crossing',\n",
    "           29:'Bicycles crossing',\n",
    "           30:'Beware of ice/snow',\n",
    "           31:'Wild animals crossing',\n",
    "           32:'End speed + passing limits',\n",
    "           33:'Turn right ahead',\n",
    "           34:'Turn left ahead',\n",
    "           35:'Ahead only',\n",
    "           36:'Go straight or right',\n",
    "           37:'Go straight or left',\n",
    "           38:'Keep right',\n",
    "           39:'Keep left',\n",
    "           40:'Roundabout mandatory',\n",
    "           41:'End of no passing',\n",
    "           42:'End no passing vehicle > 3.5 tons',}"
   ]
  },
  {
   "cell_type": "code",
   "execution_count": 13,
   "id": "f143b77c",
   "metadata": {},
   "outputs": [
    {
     "data": {
      "text/plain": [
       "array([16,  1, 38, ..., 32,  7, 10], dtype=int64)"
      ]
     },
     "execution_count": 13,
     "metadata": {},
     "output_type": "execute_result"
    }
   ],
   "source": [
    "def test_on_img(img):\n",
    "    data = []\n",
    "    image = Image.open(img)\n",
    "    image = image.resize((30,30))\n",
    "    data.append(np.array(image))\n",
    "    X_test = np.array(data)\n",
    "    probs = model4.predict(X_test)\n",
    "    Y_pred = np.argmax(probs, axis=1)\n",
    "    return image, Y_pred\n",
    "\n",
    "Y_pred"
   ]
  },
  {
   "cell_type": "code",
   "execution_count": 22,
   "id": "274dbe18",
   "metadata": {
    "scrolled": true
   },
   "outputs": [
    {
     "name": "stdout",
     "output_type": "stream",
     "text": [
      "1/1 [==============================] - 0s 41ms/step\n",
      "Predicted traffic sign is: Road work\n"
     ]
    },
    {
     "data": {
      "image/png": "[encoded data removed]",
      "text/plain": [
       "<Figure size 640x480 with 1 Axes>"
      ]
     },
     "metadata": {},
     "output_type": "display_data"
    }
   ],
   "source": [
    "plot, prediction = test_on_img(r\"C:\\1. KULIAH\\MATKUL\\SEMESTER 4\\(IF 540-A-HY) Machine Learning\\PROJECT\\Test\\00008.png\")\n",
    "s = [str(i) for i in prediction]\n",
    "a = int(\"\".join(s))\n",
    "print('Predicted traffic sign is:', classes[a])\n",
    "plt.imshow(plot)\n",
    "plt.show()"
   ]
  }
 ],
 "metadata": {
  "kernelspec": {
   "display_name": "Python 3 (ipykernel)",
   "language": "python",
   "name": "python3"
  },
  "language_info": {
   "codemirror_mode": {
    "name": "ipython",
    "version": 3
   },
   "file_extension": ".py",
   "mimetype": "text/x-python",
   "name": "python",
   "nbconvert_exporter": "python",
   "pygments_lexer": "ipython3",
   "version": "3.9.12"
  }
 },
 "nbformat": 4,
 "nbformat_minor": 5
}
